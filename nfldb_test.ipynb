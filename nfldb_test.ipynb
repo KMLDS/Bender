{
 "cells": [
  {
   "cell_type": "code",
   "execution_count": 4,
   "metadata": {
    "collapsed": true
   },
   "outputs": [
    {
     "name": "stdout",
     "output_type": "stream",
     "text": [
      "Drew Brees (NO, QB) 5177\nMatthew Stafford (DET, QB) 4965\nTony Romo (DAL, QB) 4903\nTom Brady (NE, QB) 4799\nMatt Ryan (ATL, QB) 4719\nPeyton Manning (UNK, UNK) 4667\nAndrew Luck (IND, QB) 4374\nAaron Rodgers (GB, QB) 4303\nJosh Freeman (UNK, UNK) 4065\nCarson Palmer (ARI, QB) 4018\n"
     ]
    }
   ],
   "source": [
    "import nfldb\n",
    "\n",
    "db = nfldb.connect()\n",
    "q = nfldb.Query(db)\n",
    "\n",
    "q.game(season_year=2012, season_type='Regular')\n",
    "for pp in q.sort('passing_yds').limit(10).as_aggregate():\n",
    "    print pp.player, pp.passing_yds"
   ]
  },
  {
   "cell_type": "code",
   "execution_count": null,
   "metadata": {},
   "outputs": [],
   "source": [
    ""
   ]
  }
 ],
 "metadata": {
  "kernelspec": {
   "display_name": "Python 2",
   "language": "python",
   "name": "python2"
  },
  "language_info": {
   "codemirror_mode": {
    "name": "ipython",
    "version": 2.0
   },
   "file_extension": ".py",
   "mimetype": "text/x-python",
   "name": "python",
   "nbconvert_exporter": "python",
   "pygments_lexer": "ipython2",
   "version": "2.7.6"
  }
 },
 "nbformat": 4,
 "nbformat_minor": 0
}